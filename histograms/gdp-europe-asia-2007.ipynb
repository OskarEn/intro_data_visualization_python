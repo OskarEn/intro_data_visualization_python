{
 "cells": [
  {
   "cell_type": "code",
   "execution_count": null,
   "metadata": {},
   "outputs": [],
   "source": [
    "# Histograms - help you understand the distribution of a numeric value in a way that you cannot with mean or median alone"
   ]
  },
  {
   "cell_type": "code",
   "execution_count": 2,
   "metadata": {},
   "outputs": [
    {
     "name": "stderr",
     "output_type": "stream",
     "text": [
      "/Applications/anaconda3/lib/python3.7/importlib/_bootstrap.py:219: RuntimeWarning: numpy.ufunc size changed, may indicate binary incompatibility. Expected 192 from C header, got 216 from PyObject\n",
      "  return f(*args, **kwds)\n"
     ]
    }
   ],
   "source": [
    "import pandas as pd\n",
    "from matplotlib import pyplot as plot"
   ]
  },
  {
   "cell_type": "code",
   "execution_count": 6,
   "metadata": {},
   "outputs": [
    {
     "data": {
      "text/plain": [
       "{'Africa', 'Americas', 'Asia', 'Europe', 'Oceania'}"
      ]
     },
     "execution_count": 6,
     "metadata": {},
     "output_type": "execute_result"
    }
   ],
   "source": [
    "data = pd.read_csv('countries.csv')\n",
    "# to check which continents are in the data we can use Python's set\n",
    "set(data.continent)"
   ]
  },
  {
   "cell_type": "code",
   "execution_count": 16,
   "metadata": {},
   "outputs": [
    {
     "data": {
      "text/plain": [
       "<bound method NDFrame.head of                      country continent  year  lifeExpectancy  population  \\\n",
       "23                   Albania    Europe  2007          76.423     3600523   \n",
       "83                   Austria    Europe  2007          79.829     8199783   \n",
       "119                  Belgium    Europe  2007          79.441    10392226   \n",
       "155   Bosnia and Herzegovina    Europe  2007          74.852     4552198   \n",
       "191                 Bulgaria    Europe  2007          73.005     7322858   \n",
       "383                  Croatia    Europe  2007          75.748     4493312   \n",
       "407           Czech Republic    Europe  2007          76.486    10228744   \n",
       "419                  Denmark    Europe  2007          78.332     5468120   \n",
       "527                  Finland    Europe  2007          79.313     5238460   \n",
       "539                   France    Europe  2007          80.657    61083916   \n",
       "575                  Germany    Europe  2007          79.406    82400996   \n",
       "599                   Greece    Europe  2007          79.483    10706290   \n",
       "683                  Hungary    Europe  2007          73.338     9956108   \n",
       "695                  Iceland    Europe  2007          81.757      301931   \n",
       "755                  Ireland    Europe  2007          78.885     4109086   \n",
       "779                    Italy    Europe  2007          80.546    58147733   \n",
       "1019              Montenegro    Europe  2007          74.543      684736   \n",
       "1091             Netherlands    Europe  2007          79.762    16570613   \n",
       "1151                  Norway    Europe  2007          80.196     4627926   \n",
       "1235                  Poland    Europe  2007          75.563    38518241   \n",
       "1247                Portugal    Europe  2007          78.098    10642836   \n",
       "1283                 Romania    Europe  2007          72.476    22276056   \n",
       "1343                  Serbia    Europe  2007          74.002    10150265   \n",
       "1379         Slovak Republic    Europe  2007          74.663     5447502   \n",
       "1391                Slovenia    Europe  2007          77.926     2009245   \n",
       "1427                   Spain    Europe  2007          80.941    40448191   \n",
       "1475                  Sweden    Europe  2007          80.884     9031088   \n",
       "1487             Switzerland    Europe  2007          81.701     7554661   \n",
       "1583                  Turkey    Europe  2007          71.777    71158647   \n",
       "1607          United Kingdom    Europe  2007          79.425    60776238   \n",
       "\n",
       "      gdpPerCapita  \n",
       "23     5937.029526  \n",
       "83    36126.492700  \n",
       "119   33692.605080  \n",
       "155    7446.298803  \n",
       "191   10680.792820  \n",
       "383   14619.222720  \n",
       "407   22833.308510  \n",
       "419   35278.418740  \n",
       "527   33207.084400  \n",
       "539   30470.016700  \n",
       "575   32170.374420  \n",
       "599   27538.411880  \n",
       "683   18008.944440  \n",
       "695   36180.789190  \n",
       "755   40675.996350  \n",
       "779   28569.719700  \n",
       "1019   9253.896111  \n",
       "1091  36797.933320  \n",
       "1151  49357.190170  \n",
       "1235  15389.924680  \n",
       "1247  20509.647770  \n",
       "1283  10808.475610  \n",
       "1343   9786.534714  \n",
       "1379  18678.314350  \n",
       "1391  25768.257590  \n",
       "1427  28821.063700  \n",
       "1475  33859.748350  \n",
       "1487  37506.419070  \n",
       "1583   8458.276384  \n",
       "1607  33203.261280  >"
      ]
     },
     "execution_count": 16,
     "metadata": {},
     "output_type": "execute_result"
    }
   ],
   "source": [
    "# We will analyse data from the year 2007. We can store this in another variable\n",
    "data_2007 = data[data.year == 2007] # I couldn't have more conditionals here e.g. AND continent is Asia or Europe\n",
    "\n",
    "# Select the sets that we are interested in. In this case Asia and Europe\n",
    "europe_2007 = data_2007[data_2007.continent == 'Europe']\n",
    "asia_2007 = data_2007[data_2007.continent == 'Asia']\n",
    "# europe_2007.head\n",
    "# asia_2007.head"
   ]
  },
  {
   "cell_type": "code",
   "execution_count": 25,
   "metadata": {},
   "outputs": [
    {
     "data": {
      "text/plain": [
       "4471.061906"
      ]
     },
     "execution_count": 25,
     "metadata": {},
     "output_type": "execute_result"
    }
   ],
   "source": [
    "# Checking mean and median\n",
    "# Getting EOF error when trying to print formatted way\n",
    "#print(\"Asia GDP: Mean:%5f - Median:%5f\" % (asia_2007.gdpPerCapita.mean(), asia_2007.gdpPerCapita.median())"
   ]
  },
  {
   "cell_type": "code",
   "execution_count": 26,
   "metadata": {},
   "outputs": [
    {
     "name": "stdout",
     "output_type": "stream",
     "text": [
      "12473.02687013333\n",
      "4471.061906\n"
     ]
    }
   ],
   "source": [
    "# Asia\n",
    "print(asia_2007.gdpPerCapita.mean())\n",
    "print(asia_2007.gdpPerCapita.median())"
   ]
  },
  {
   "cell_type": "code",
   "execution_count": 27,
   "metadata": {},
   "outputs": [
    {
     "name": "stdout",
     "output_type": "stream",
     "text": [
      "25054.481635933327\n",
      "28054.06579\n"
     ]
    }
   ],
   "source": [
    "# Europe\n",
    "print(europe_2007.gdpPerCapita.mean())\n",
    "print(europe_2007.gdpPerCapita.median())"
   ]
  },
  {
   "cell_type": "code",
   "execution_count": 33,
   "metadata": {},
   "outputs": [
    {
     "data": {
      "text/plain": [
       "(array([13.,  6.,  1.,  0.,  3.,  0.,  0.,  0.,  1.,  2.,  1.,  1.,  1.,\n",
       "         1.,  0.,  0.,  1.,  0.,  0.,  2.]),\n",
       " array([  944.      ,  3262.149489,  5580.298978,  7898.448467,\n",
       "        10216.597956, 12534.747445, 14852.896934, 17171.046423,\n",
       "        19489.195912, 21807.345401, 24125.49489 , 26443.644379,\n",
       "        28761.793868, 31079.943357, 33398.092846, 35716.242335,\n",
       "        38034.391824, 40352.541313, 42670.690802, 44988.840291,\n",
       "        47306.98978 ]),\n",
       " <a list of 20 Patch objects>)"
      ]
     },
     "execution_count": 33,
     "metadata": {},
     "output_type": "execute_result"
    },
    {
     "data": {
      "image/png": "[encoded data removed]",
      "text/plain": [
       "<Figure size 432x288 with 1 Axes>"
      ]
     },
     "metadata": {
      "needs_background": "light"
     },
     "output_type": "display_data"
    }
   ],
   "source": [
    "# We have the absolute numbers but it's difficult to draw conclusions without seeing the distribtuion\n",
    "# simple hist\n",
    "plot.hist(asia_2007.gdpPerCapita, 20, edgecolor='black') #second parameter is amount of buckets"
   ]
  },
  {
   "cell_type": "code",
   "execution_count": 39,
   "metadata": {},
   "outputs": [
    {
     "data": {
      "text/plain": [
       "(array([0., 0., 2., 3., 2., 1., 1., 2., 1., 1., 1., 3., 2., 4., 4., 1., 1.,\n",
       "        0., 0., 1.]),\n",
       " array([    0.,  2500.,  5000.,  7500., 10000., 12500., 15000., 17500.,\n",
       "        20000., 22500., 25000., 27500., 30000., 32500., 35000., 37500.,\n",
       "        40000., 42500., 45000., 47500., 50000.]),\n",
       " <a list of 20 Patch objects>)"
      ]
     },
     "execution_count": 39,
     "metadata": {},
     "output_type": "execute_result"
    },
    {
     "data": {
      "image/png": "[encoded data removed]",
      "text/plain": [
       "<Figure size 432x288 with 2 Axes>"
      ]
     },
     "metadata": {
      "needs_background": "light"
     },
     "output_type": "display_data"
    }
   ],
   "source": [
    "# To make it easier to compare with Europe we can use a subplot to create a plot within a plot\n",
    "# It has 3 arguments: first two for the structure of the subplots (#rows #cols);  third is the index of the subplot\n",
    "plot.subplot(2, 1, 1)\n",
    "plot.title('GDP Distributions')\n",
    "plot.ylabel('Asia')\n",
    "plot.hist(asia_2007.gdpPerCapita, 20, edgecolor='black', range=(0, 50000))\n",
    "plot.subplot(2,1,2)\n",
    "plot.ylabel('Europe')\n",
    "plot.hist(europe_2007.gdpPerCapita, 20, edgecolor='black', range=(0, 50000))"
   ]
  },
  {
   "cell_type": "code",
   "execution_count": null,
   "metadata": {},
   "outputs": [],
   "source": []
  }
 ],
 "metadata": {
  "kernelspec": {
   "display_name": "Python 3",
   "language": "python",
   "name": "python3"
  },
  "language_info": {
   "codemirror_mode": {
    "name": "ipython",
    "version": 3
   },
   "file_extension": ".py",
   "mimetype": "text/x-python",
   "name": "python",
   "nbconvert_exporter": "python",
   "pygments_lexer": "ipython3",
   "version": "3.7.4"
  }
 },
 "nbformat": 4,
 "nbformat_minor": 2
}
