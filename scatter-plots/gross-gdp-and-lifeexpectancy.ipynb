{
 "cells": [
  {
   "cell_type": "code",
   "execution_count": 1,
   "metadata": {},
   "outputs": [],
   "source": [
    "# In the other workbook I looked at GDP per capita and life expectancy\n",
    "import pandas as pd\n",
    "from matplotlib import pyplot as plt\n",
    "import numpy as np"
   ]
  },
  {
   "cell_type": "code",
   "execution_count": 21,
   "metadata": {},
   "outputs": [
    {
     "data": {
      "text/plain": [
       "<bound method NDFrame.head of                  country continent  year  lifeExpectancy  population  \\\n",
       "11           Afghanistan      Asia  2007          43.828    31889923   \n",
       "23               Albania    Europe  2007          76.423     3600523   \n",
       "35               Algeria    Africa  2007          72.301    33333216   \n",
       "47                Angola    Africa  2007          42.731    12420476   \n",
       "59             Argentina  Americas  2007          75.320    40301927   \n",
       "...                  ...       ...   ...             ...         ...   \n",
       "1655             Vietnam      Asia  2007          74.249    85262356   \n",
       "1667  West Bank and Gaza      Asia  2007          73.422     4018332   \n",
       "1679         Yemen, Rep.      Asia  2007          62.698    22211743   \n",
       "1691              Zambia    Africa  2007          42.384    11746035   \n",
       "1703            Zimbabwe    Africa  2007          43.487    12311143   \n",
       "\n",
       "      gdpPerCapita  \n",
       "11      974.580338  \n",
       "23     5937.029526  \n",
       "35     6223.367465  \n",
       "47     4797.231267  \n",
       "59    12779.379640  \n",
       "...            ...  \n",
       "1655   2441.576404  \n",
       "1667   3025.349798  \n",
       "1679   2280.769906  \n",
       "1691   1271.211593  \n",
       "1703    469.709298  \n",
       "\n",
       "[142 rows x 6 columns]>"
      ]
     },
     "execution_count": 21,
     "metadata": {},
     "output_type": "execute_result"
    }
   ],
   "source": [
    "data = pd.read_csv(\"countries.csv\")\n",
    "data_2007 = data[data.year==2007]\n",
    "data_2007.head"
   ]
  },
  {
   "cell_type": "code",
   "execution_count": 22,
   "metadata": {},
   "outputs": [
    {
     "name": "stdout",
     "output_type": "stream",
     "text": [
      "11       31.079292\n",
      "23       21.376411\n",
      "35      207.444852\n",
      "47       59.583896\n",
      "59      515.033625\n",
      "           ...    \n",
      "1655    208.174557\n",
      "1667     12.156860\n",
      "1679     50.659875\n",
      "1691     14.931696\n",
      "1703      5.782658\n",
      "Length: 142, dtype: float64\n"
     ]
    }
   ],
   "source": [
    "data_2007_gdp_bn = (data_2007.gdpPerCapita * data_2007.population) / 10**9\n",
    "print(data_2007_gdp_bn)"
   ]
  },
  {
   "cell_type": "code",
   "execution_count": 23,
   "metadata": {},
   "outputs": [
    {
     "data": {
      "text/plain": [
       "<function matplotlib.pyplot.show(*args, **kw)>"
      ]
     },
     "execution_count": 23,
     "metadata": {},
     "output_type": "execute_result"
    },
    {
     "data": {
      "image/png": "[encoded data removed]",
      "text/plain": [
       "<Figure size 432x288 with 1 Axes>"
      ]
     },
     "metadata": {
      "needs_background": "light"
     },
     "output_type": "display_data"
    }
   ],
   "source": [
    "# raw\n",
    "plt.scatter(data_2007_gdp_bn, data_2007.lifeExpectancy, 5)\n",
    "plt.title(\"GDP of Nation and Life Expectancy\")\n",
    "plt.xlabel(\"GDP\")\n",
    "plt.ylabel(\"Life Expectancy\")\n",
    "plt.show"
   ]
  },
  {
   "cell_type": "code",
   "execution_count": 24,
   "metadata": {},
   "outputs": [
    {
     "data": {
      "text/plain": [
       "<function matplotlib.pyplot.show(*args, **kw)>"
      ]
     },
     "execution_count": 24,
     "metadata": {},
     "output_type": "execute_result"
    },
    {
     "data": {
      "image/png": "[encoded data removed]",
      "text/plain": [
       "<Figure size 432x288 with 1 Axes>"
      ]
     },
     "metadata": {
      "needs_background": "light"
     },
     "output_type": "display_data"
    }
   ],
   "source": [
    "# log scale\n",
    "plt.scatter(np.log10(data_2007_gdp_bn), data_2007.lifeExpectancy, 5)\n",
    "plt.title(\"GDP of Nation and Life Expectancy\")\n",
    "plt.xlabel(\"GDP (log scale)\")\n",
    "plt.ylabel(\"Life Expectancy\")\n",
    "plt.show"
   ]
  },
  {
   "cell_type": "code",
   "execution_count": null,
   "metadata": {},
   "outputs": [],
   "source": []
  }
 ],
 "metadata": {
  "kernelspec": {
   "display_name": "Python 3",
   "language": "python",
   "name": "python3"
  },
  "language_info": {
   "codemirror_mode": {
    "name": "ipython",
    "version": 3
   },
   "file_extension": ".py",
   "mimetype": "text/x-python",
   "name": "python",
   "nbconvert_exporter": "python",
   "pygments_lexer": "ipython3",
   "version": "3.7.4"
  }
 },
 "nbformat": 4,
 "nbformat_minor": 2
}
