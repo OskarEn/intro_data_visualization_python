{
 "cells": [
  {
   "cell_type": "code",
   "execution_count": 1,
   "metadata": {},
   "outputs": [],
   "source": [
    "# In the other workbook I looked at GDP per capita and life expectancy\n",
    "import pandas as pd\n",
    "from matplotlib import pyplot as plt\n",
    "import numpy as np"
   ]
  },
  {
   "cell_type": "code",
   "execution_count": 17,
   "metadata": {},
   "outputs": [
    {
     "ename": "SyntaxError",
     "evalue": "invalid syntax (<ipython-input-17-991f8b3ffacf>, line 3)",
     "output_type": "error",
     "traceback": [
      "\u001b[0;36m  File \u001b[0;32m\"<ipython-input-17-991f8b3ffacf>\"\u001b[0;36m, line \u001b[0;32m3\u001b[0m\n\u001b[0;31m    gdp = [data.year, data.lifeExpectancy, gdp=data.gdpPerCapita * data.population / 10**9] # in billions\u001b[0m\n\u001b[0m                                              ^\u001b[0m\n\u001b[0;31mSyntaxError\u001b[0m\u001b[0;31m:\u001b[0m invalid syntax\n"
     ]
    }
   ],
   "source": [
    "data = pd.read_csv(\"countries.csv\")\n",
    "# data.head\n",
    "gdp = [data.year, data.lifeExpectancy,data.gdpPerCapita * data.population / 10**9] # in billions\n",
    "#plt.scatter(data.year, gdp, 50)\n",
    "#plt.show() #Okay, we have something. Lets break it down per year"
   ]
  },
  {
   "cell_type": "code",
   "execution_count": 6,
   "metadata": {},
   "outputs": [
    {
     "name": "stdout",
     "output_type": "stream",
     "text": [
      "[1952, 1957, 1962, 1967, 1972, 1977, 1982, 1987, 1992, 1997, 2002, 2007]\n"
     ]
    }
   ],
   "source": [
    "years = sorted(set(data.year))\n",
    "print(years)"
   ]
  },
  {
   "cell_type": "code",
   "execution_count": 16,
   "metadata": {},
   "outputs": [
    {
     "name": "stdout",
     "output_type": "stream",
     "text": [
      "[0       1952\n",
      "1       1957\n",
      "2       1962\n",
      "3       1967\n",
      "4       1972\n",
      "        ... \n",
      "1699    1987\n",
      "1700    1992\n",
      "1701    1997\n",
      "1702    2002\n",
      "1703    2007\n",
      "Name: year, Length: 1704, dtype: int64, 0       28.801\n",
      "1       30.332\n",
      "2       31.997\n",
      "3       34.020\n",
      "4       36.088\n",
      "         ...  \n",
      "1699    62.351\n",
      "1700    60.377\n",
      "1701    46.809\n",
      "1702    39.989\n",
      "1703    43.487\n",
      "Name: lifeExpectancy, Length: 1704, dtype: float64, 0       6.567086\n",
      "1       7.585449\n",
      "2       8.758856\n",
      "3       9.648014\n",
      "4       9.678553\n",
      "          ...   \n",
      "1699    6.508241\n",
      "1700    7.422612\n",
      "1701    9.037851\n",
      "1702    8.015111\n",
      "1703    5.782658\n",
      "Length: 1704, dtype: float64]\n"
     ]
    }
   ],
   "source": [
    "print(gdp) # Need to learn python fundamentals, just made an array with size 3, storing year, gdp, lifeexpect, wanted to make a list where each \"row\" contains these three attributes"
   ]
  },
  {
   "cell_type": "code",
   "execution_count": 20,
   "metadata": {},
   "outputs": [
    {
     "name": "stdout",
     "output_type": "stream",
     "text": [
      "0       28.801\n",
      "1       30.332\n",
      "2       31.997\n",
      "3       34.020\n",
      "4       36.088\n",
      "         ...  \n",
      "1699    62.351\n",
      "1700    60.377\n",
      "1701    46.809\n",
      "1702    39.989\n",
      "1703    43.487\n",
      "Name: lifeExpectancy, Length: 1704, dtype: float64\n"
     ]
    }
   ],
   "source": [
    "print(gdp[1])"
   ]
  },
  {
   "cell_type": "code",
   "execution_count": null,
   "metadata": {},
   "outputs": [],
   "source": []
  }
 ],
 "metadata": {
  "kernelspec": {
   "display_name": "Python 3",
   "language": "python",
   "name": "python3"
  },
  "language_info": {
   "codemirror_mode": {
    "name": "ipython",
    "version": 3
   },
   "file_extension": ".py",
   "mimetype": "text/x-python",
   "name": "python",
   "nbconvert_exporter": "python",
   "pygments_lexer": "ipython3",
   "version": "3.7.4"
  }
 },
 "nbformat": 4,
 "nbformat_minor": 2
}
